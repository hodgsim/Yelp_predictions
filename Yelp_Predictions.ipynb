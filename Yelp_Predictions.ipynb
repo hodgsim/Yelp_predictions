{
 "cells": [
  {
   "cell_type": "markdown",
   "metadata": {},
   "source": [
    "# Predicting star rating based upon text reviews on Yelp"
   ]
  },
  {
   "cell_type": "code",
   "execution_count": 60,
   "metadata": {},
   "outputs": [],
   "source": [
    "import numpy as np\n",
    "import pandas as pd\n",
    "import seaborn as sns\n",
    "import matplotlib.pyplot as plt\n",
    "\n",
    "import warnings\n",
    "warnings.filterwarnings('ignore')\n",
    "\n",
    "from tqdm.auto import tqdm\n",
    "\n",
    "from sklearn.model_selection import train_test_split, GridSearchCV, cross_val_score\n",
    "from sklearn.linear_model import LogisticRegression\n",
    "from sklearn.svm import LinearSVC\n",
    "from sklearn.naive_bayes import MultinomialNB\n",
    "from sklearn.ensemble import RandomForestClassifier\n",
    "from sklearn.feature_selection import chi2\n",
    "from sklearn.feature_extraction.text import TfidfVectorizer\n",
    "from sklearn.pipeline import Pipeline\n",
    "from sklearn.metrics import confusion_matrix\n",
    "from sklearn import metrics\n",
    "\n",
    "from keras.models import Sequential, load_model\n",
    "from keras.layers import LSTM, Dense, Dropout, Embedding\n",
    "from keras.preprocessing.text import Tokenizer\n",
    "from keras.preprocessing.sequence import pad_sequences\n",
    "from keras.callbacks import ModelCheckpoint"
   ]
  },
  {
   "cell_type": "markdown",
   "metadata": {},
   "source": [
    "The review file (taken from [here](https://www.kaggle.com/yelp-dataset/yelp-dataset)) is nearly 4GB and contains nearly 5.3 million rows, so start by loading a few rows, just to get a sense of the structure"
   ]
  },
  {
   "cell_type": "code",
   "execution_count": 3,
   "metadata": {},
   "outputs": [
    {
     "data": {
      "text/html": [
       "<div>\n",
       "<style scoped>\n",
       "    .dataframe tbody tr th:only-of-type {\n",
       "        vertical-align: middle;\n",
       "    }\n",
       "\n",
       "    .dataframe tbody tr th {\n",
       "        vertical-align: top;\n",
       "    }\n",
       "\n",
       "    .dataframe thead th {\n",
       "        text-align: right;\n",
       "    }\n",
       "</style>\n",
       "<table border=\"1\" class=\"dataframe\">\n",
       "  <thead>\n",
       "    <tr style=\"text-align: right;\">\n",
       "      <th></th>\n",
       "      <th>review_id</th>\n",
       "      <th>user_id</th>\n",
       "      <th>business_id</th>\n",
       "      <th>stars</th>\n",
       "      <th>date</th>\n",
       "      <th>text</th>\n",
       "      <th>useful</th>\n",
       "      <th>funny</th>\n",
       "      <th>cool</th>\n",
       "    </tr>\n",
       "  </thead>\n",
       "  <tbody>\n",
       "    <tr>\n",
       "      <th>0</th>\n",
       "      <td>vkVSCC7xljjrAI4UGfnKEQ</td>\n",
       "      <td>bv2nCi5Qv5vroFiqKGopiw</td>\n",
       "      <td>AEx2SYEUJmTxVVB18LlCwA</td>\n",
       "      <td>5</td>\n",
       "      <td>2016-05-28</td>\n",
       "      <td>Super simple place but amazing nonetheless. It...</td>\n",
       "      <td>0</td>\n",
       "      <td>0</td>\n",
       "      <td>0</td>\n",
       "    </tr>\n",
       "    <tr>\n",
       "      <th>1</th>\n",
       "      <td>n6QzIUObkYshz4dz2QRJTw</td>\n",
       "      <td>bv2nCi5Qv5vroFiqKGopiw</td>\n",
       "      <td>VR6GpWIda3SfvPC-lg9H3w</td>\n",
       "      <td>5</td>\n",
       "      <td>2016-05-28</td>\n",
       "      <td>Small unassuming place that changes their menu...</td>\n",
       "      <td>0</td>\n",
       "      <td>0</td>\n",
       "      <td>0</td>\n",
       "    </tr>\n",
       "    <tr>\n",
       "      <th>2</th>\n",
       "      <td>MV3CcKScW05u5LVfF6ok0g</td>\n",
       "      <td>bv2nCi5Qv5vroFiqKGopiw</td>\n",
       "      <td>CKC0-MOWMqoeWf6s-szl8g</td>\n",
       "      <td>5</td>\n",
       "      <td>2016-05-28</td>\n",
       "      <td>Lester's is located in a beautiful neighborhoo...</td>\n",
       "      <td>0</td>\n",
       "      <td>0</td>\n",
       "      <td>0</td>\n",
       "    </tr>\n",
       "    <tr>\n",
       "      <th>3</th>\n",
       "      <td>IXvOzsEMYtiJI0CARmj77Q</td>\n",
       "      <td>bv2nCi5Qv5vroFiqKGopiw</td>\n",
       "      <td>ACFtxLv8pGrrxMm6EgjreA</td>\n",
       "      <td>4</td>\n",
       "      <td>2016-05-28</td>\n",
       "      <td>Love coming here. Yes the place always needs t...</td>\n",
       "      <td>0</td>\n",
       "      <td>0</td>\n",
       "      <td>0</td>\n",
       "    </tr>\n",
       "    <tr>\n",
       "      <th>4</th>\n",
       "      <td>L_9BTb55X0GDtThi6GlZ6w</td>\n",
       "      <td>bv2nCi5Qv5vroFiqKGopiw</td>\n",
       "      <td>s2I_Ni76bjJNK9yG60iD-Q</td>\n",
       "      <td>4</td>\n",
       "      <td>2016-05-28</td>\n",
       "      <td>Had their chocolate almond croissant and it wa...</td>\n",
       "      <td>0</td>\n",
       "      <td>0</td>\n",
       "      <td>0</td>\n",
       "    </tr>\n",
       "  </tbody>\n",
       "</table>\n",
       "</div>"
      ],
      "text/plain": [
       "                review_id                 user_id             business_id  \\\n",
       "0  vkVSCC7xljjrAI4UGfnKEQ  bv2nCi5Qv5vroFiqKGopiw  AEx2SYEUJmTxVVB18LlCwA   \n",
       "1  n6QzIUObkYshz4dz2QRJTw  bv2nCi5Qv5vroFiqKGopiw  VR6GpWIda3SfvPC-lg9H3w   \n",
       "2  MV3CcKScW05u5LVfF6ok0g  bv2nCi5Qv5vroFiqKGopiw  CKC0-MOWMqoeWf6s-szl8g   \n",
       "3  IXvOzsEMYtiJI0CARmj77Q  bv2nCi5Qv5vroFiqKGopiw  ACFtxLv8pGrrxMm6EgjreA   \n",
       "4  L_9BTb55X0GDtThi6GlZ6w  bv2nCi5Qv5vroFiqKGopiw  s2I_Ni76bjJNK9yG60iD-Q   \n",
       "\n",
       "   stars        date                                               text  \\\n",
       "0      5  2016-05-28  Super simple place but amazing nonetheless. It...   \n",
       "1      5  2016-05-28  Small unassuming place that changes their menu...   \n",
       "2      5  2016-05-28  Lester's is located in a beautiful neighborhoo...   \n",
       "3      4  2016-05-28  Love coming here. Yes the place always needs t...   \n",
       "4      4  2016-05-28  Had their chocolate almond croissant and it wa...   \n",
       "\n",
       "   useful  funny  cool  \n",
       "0       0      0     0  \n",
       "1       0      0     0  \n",
       "2       0      0     0  \n",
       "3       0      0     0  \n",
       "4       0      0     0  "
      ]
     },
     "execution_count": 3,
     "metadata": {},
     "output_type": "execute_result"
    }
   ],
   "source": [
    "reviews = pd.read_csv('input/yelp_review.csv', nrows = 5)\n",
    "reviews"
   ]
  },
  {
   "cell_type": "markdown",
   "metadata": {},
   "source": [
    "We'll just a subset of these columns, and only work with the first 500,000 reviews"
   ]
  },
  {
   "cell_type": "code",
   "execution_count": 4,
   "metadata": {},
   "outputs": [
    {
     "data": {
      "text/plain": [
       "(500000, 3)"
      ]
     },
     "execution_count": 4,
     "metadata": {},
     "output_type": "execute_result"
    }
   ],
   "source": [
    "reviews = pd.read_csv('input/yelp_review.csv', usecols = ['business_id', 'stars', 'text'], nrows = 500000)\n",
    "reviews.shape"
   ]
  },
  {
   "cell_type": "markdown",
   "metadata": {},
   "source": [
    "## EDA"
   ]
  },
  {
   "cell_type": "markdown",
   "metadata": {},
   "source": [
    "Initial plot of star distribution shows that data is imbalanced, so we'll need to be careful when assessing the accuracy of any classifiers"
   ]
  },
  {
   "cell_type": "code",
   "execution_count": 5,
   "metadata": {},
   "outputs": [
    {
     "data": {
      "image/png": "[encoded data removed]",
      "text/plain": [
       "<Figure size 432x288 with 1 Axes>"
      ]
     },
     "metadata": {},
     "output_type": "display_data"
    }
   ],
   "source": [
    "# Plot distribution of counts by class\n",
    "sns.set(style=\"darkgrid\")\n",
    "sns.set_palette(\"RdYlGn\")\n",
    "plt.title('Distribution of star ratings')\n",
    "_ = sns.countplot('stars', data=reviews)\n"
   ]
  },
  {
   "cell_type": "code",
   "execution_count": 6,
   "metadata": {},
   "outputs": [
    {
     "data": {
      "text/html": [
       "<div>\n",
       "<style scoped>\n",
       "    .dataframe tbody tr th:only-of-type {\n",
       "        vertical-align: middle;\n",
       "    }\n",
       "\n",
       "    .dataframe tbody tr th {\n",
       "        vertical-align: top;\n",
       "    }\n",
       "\n",
       "    .dataframe thead th {\n",
       "        text-align: right;\n",
       "    }\n",
       "</style>\n",
       "<table border=\"1\" class=\"dataframe\">\n",
       "  <thead>\n",
       "    <tr style=\"text-align: right;\">\n",
       "      <th></th>\n",
       "      <th>Percentage of all reviews</th>\n",
       "    </tr>\n",
       "    <tr>\n",
       "      <th>stars</th>\n",
       "      <th></th>\n",
       "    </tr>\n",
       "  </thead>\n",
       "  <tbody>\n",
       "    <tr>\n",
       "      <th>1</th>\n",
       "      <td>13.7848</td>\n",
       "    </tr>\n",
       "    <tr>\n",
       "      <th>2</th>\n",
       "      <td>8.4226</td>\n",
       "    </tr>\n",
       "    <tr>\n",
       "      <th>3</th>\n",
       "      <td>11.5140</td>\n",
       "    </tr>\n",
       "    <tr>\n",
       "      <th>4</th>\n",
       "      <td>23.1150</td>\n",
       "    </tr>\n",
       "    <tr>\n",
       "      <th>5</th>\n",
       "      <td>43.1636</td>\n",
       "    </tr>\n",
       "  </tbody>\n",
       "</table>\n",
       "</div>"
      ],
      "text/plain": [
       "       Percentage of all reviews\n",
       "stars                           \n",
       "1                        13.7848\n",
       "2                         8.4226\n",
       "3                        11.5140\n",
       "4                        23.1150\n",
       "5                        43.1636"
      ]
     },
     "execution_count": 6,
     "metadata": {},
     "output_type": "execute_result"
    }
   ],
   "source": [
    "# Display percentage of total number of reviews for each class\n",
    "base_classes = pd.DataFrame({\"Percentage of all reviews\" : reviews.groupby(('stars')).size()*100/len(reviews)})\n",
    "base_classes"
   ]
  },
  {
   "cell_type": "markdown",
   "metadata": {},
   "source": [
    "We also need a sense of the word counts in the text review field"
   ]
  },
  {
   "cell_type": "code",
   "execution_count": 7,
   "metadata": {},
   "outputs": [
    {
     "data": {
      "application/vnd.jupyter.widget-view+json": {
       "model_id": "0887515daafd4d8595cbe7fe759d9a8f",
       "version_major": 2,
       "version_minor": 0
      },
      "text/plain": [
       "HBox(children=(IntProgress(value=0, max=500000), HTML(value='')))"
      ]
     },
     "metadata": {},
     "output_type": "display_data"
    },
    {
     "name": "stdout",
     "output_type": "stream",
     "text": [
      "\n"
     ]
    }
   ],
   "source": [
    "# This approach can take a while depending upon the number of reviews, so we'll use a progress bar\n",
    "# First, instantate tqdm so that it's methods can be called when using pandas\n",
    "tqdm.pandas()\n",
    "\n",
    "# To get the word count, we'd normally use something like\n",
    "# reviews['word_count'] = reviews.text.str.split().apply(len)\n",
    "# but to get a tqdm progress bar, just replace apply with progress_apply\n",
    "\n",
    "reviews['word_count'] = reviews.text.str.split().progress_apply(len)"
   ]
  },
  {
   "cell_type": "code",
   "execution_count": 8,
   "metadata": {},
   "outputs": [
    {
     "data": {
      "text/html": [
       "<div>\n",
       "<style scoped>\n",
       "    .dataframe tbody tr th:only-of-type {\n",
       "        vertical-align: middle;\n",
       "    }\n",
       "\n",
       "    .dataframe tbody tr th {\n",
       "        vertical-align: top;\n",
       "    }\n",
       "\n",
       "    .dataframe thead th {\n",
       "        text-align: right;\n",
       "    }\n",
       "</style>\n",
       "<table border=\"1\" class=\"dataframe\">\n",
       "  <thead>\n",
       "    <tr style=\"text-align: right;\">\n",
       "      <th></th>\n",
       "      <th>business_id</th>\n",
       "      <th>stars</th>\n",
       "      <th>text</th>\n",
       "      <th>word_count</th>\n",
       "    </tr>\n",
       "  </thead>\n",
       "  <tbody>\n",
       "    <tr>\n",
       "      <th>0</th>\n",
       "      <td>AEx2SYEUJmTxVVB18LlCwA</td>\n",
       "      <td>5</td>\n",
       "      <td>Super simple place but amazing nonetheless. It...</td>\n",
       "      <td>35</td>\n",
       "    </tr>\n",
       "    <tr>\n",
       "      <th>1</th>\n",
       "      <td>VR6GpWIda3SfvPC-lg9H3w</td>\n",
       "      <td>5</td>\n",
       "      <td>Small unassuming place that changes their menu...</td>\n",
       "      <td>91</td>\n",
       "    </tr>\n",
       "    <tr>\n",
       "      <th>2</th>\n",
       "      <td>CKC0-MOWMqoeWf6s-szl8g</td>\n",
       "      <td>5</td>\n",
       "      <td>Lester's is located in a beautiful neighborhoo...</td>\n",
       "      <td>67</td>\n",
       "    </tr>\n",
       "    <tr>\n",
       "      <th>3</th>\n",
       "      <td>ACFtxLv8pGrrxMm6EgjreA</td>\n",
       "      <td>4</td>\n",
       "      <td>Love coming here. Yes the place always needs t...</td>\n",
       "      <td>101</td>\n",
       "    </tr>\n",
       "    <tr>\n",
       "      <th>4</th>\n",
       "      <td>s2I_Ni76bjJNK9yG60iD-Q</td>\n",
       "      <td>4</td>\n",
       "      <td>Had their chocolate almond croissant and it wa...</td>\n",
       "      <td>41</td>\n",
       "    </tr>\n",
       "  </tbody>\n",
       "</table>\n",
       "</div>"
      ],
      "text/plain": [
       "              business_id  stars  \\\n",
       "0  AEx2SYEUJmTxVVB18LlCwA      5   \n",
       "1  VR6GpWIda3SfvPC-lg9H3w      5   \n",
       "2  CKC0-MOWMqoeWf6s-szl8g      5   \n",
       "3  ACFtxLv8pGrrxMm6EgjreA      4   \n",
       "4  s2I_Ni76bjJNK9yG60iD-Q      4   \n",
       "\n",
       "                                                text  word_count  \n",
       "0  Super simple place but amazing nonetheless. It...          35  \n",
       "1  Small unassuming place that changes their menu...          91  \n",
       "2  Lester's is located in a beautiful neighborhoo...          67  \n",
       "3  Love coming here. Yes the place always needs t...         101  \n",
       "4  Had their chocolate almond croissant and it wa...          41  "
      ]
     },
     "execution_count": 8,
     "metadata": {},
     "output_type": "execute_result"
    }
   ],
   "source": [
    "reviews.head()"
   ]
  },
  {
   "cell_type": "code",
   "execution_count": 9,
   "metadata": {},
   "outputs": [
    {
     "name": "stdout",
     "output_type": "stream",
     "text": [
      "Median review length: 80 words\n",
      "Mean review length: 113 words\n",
      "Max review length: 1051 words\n"
     ]
    },
    {
     "data": {
      "image/png": "[encoded data removed]",
      "text/plain": [
       "<Figure size 432x288 with 1 Axes>"
      ]
     },
     "metadata": {},
     "output_type": "display_data"
    }
   ],
   "source": [
    "sns.distplot(reviews.word_count, kde=False)\n",
    "plt.title('Distribution of word count')\n",
    "plt.xlabel('Word count')\n",
    "plt.ylabel('Number of reviews')\n",
    "\n",
    "print('Median review length: {0:0.0f} words'.format(reviews.word_count.median()))\n",
    "print('Mean review length: {0:0.0f} words'.format(reviews.word_count.mean()))\n",
    "print('Max review length: {0:0.0f} words'.format(reviews.word_count.max()))"
   ]
  },
  {
   "cell_type": "markdown",
   "metadata": {},
   "source": [
    "## Text analysis and vectorization"
   ]
  },
  {
   "cell_type": "markdown",
   "metadata": {},
   "source": [
    "First, let's check some sample reviews"
   ]
  },
  {
   "cell_type": "code",
   "execution_count": 10,
   "metadata": {
    "scrolled": true
   },
   "outputs": [
    {
     "name": "stdout",
     "output_type": "stream",
     "text": [
      "1 star review:\n",
      "Similar experience to previous reviewers - they charge exuberant fees but aren't transparent during the booking about how much things will cost. You're better off going with a slightly  more expensive car rental company that has more inclusive rates.\n",
      "\n",
      "\n",
      "2 star review:\n",
      "It's interested concept but the sushi is not great at all. Most of them has crab mix. A lot of fried and I think they place coloring die on the fish. I will not go back here\n",
      "\n",
      "\n",
      "3 star review:\n",
      "Fast and friendly service.  The pizza was made fresh and not busy at all.  I gave it a 3 just because there was nothing that challenged them to make them stand out like a busy lunch crowd.\n",
      "\n",
      "\n",
      "4 star review:\n",
      "I still consider the Bellagio buffet to be one of the best on the Strip, and the quality is good regardless of whether it is a peak (dinner on a weekend) or off-peak time (i.e., breakfast).  The buffet has a nice selection and great variety.  The desserts, waffles, and Kobe beef are my favorites at this buffet.\n",
      "\n",
      "\n",
      "5 star review:\n",
      "Excellent modern Indian restaurant!  Food was spicy like real Indian food.  Presentation and plating what made me give it 5 stars.  Meats definitely tasted like it was pre-marinated days before.  Kabobs were spot on.  I wouldn't consider it expensive bc it's located on bay view.  Bar is great when waiting for table.\n",
      "\n",
      "\n"
     ]
    }
   ],
   "source": [
    "def get_random_review(star, max_length=80):\n",
    "    \"\"\"\n",
    "    Subsets the df based upon the star rating and desired max word count,\n",
    "    selects a random sample, and returns the value of the 'text' column\n",
    "    \"\"\"\n",
    "    return reviews[(reviews.stars == star) & (reviews.word_count < max_length)].sample(1).text.values[0]\n",
    "\n",
    "for star in range(1,6):\n",
    "    print('{0} star review:'.format(star))\n",
    "    print(get_random_review(star))\n",
    "    print('\\n')"
   ]
  },
  {
   "cell_type": "markdown",
   "metadata": {},
   "source": [
    "In very broad terms, it appears as though it should be possible to distinguish between a positive and negative review based on the inclusion of certain words that are associated with a sentiment. This is the idea behind the bag of words approach that we'll use when examining some linear models. Note that it is less clear from this admittedly small sample that we could distinguish between adjacent classes (ie between say a 3 and 4 star review) using this approach, but we'll try."
   ]
  },
  {
   "cell_type": "markdown",
   "metadata": {},
   "source": [
    "### Tf-idf vectorization  \n",
    "  \n",
    "To work with ML models, we'll need to convert each word in the review into a consistently formatted numerical vector. We'll do this using Tf-idf (Term frequency, inverse document frequency).  \n",
    "  \n",
    "Remember that TF(t,d) is the number of times that the term t appears in document d (ie an intended measure of relevance), and IDF(t,d) is the log of inverse frequency, ie the total number of documents divided by the number of documents that contain the term t. This functions as a weighting that will penalize common words appearing in many documents (so as the number of documents that a word appears in tends towards the total number of documents, IDF tends towards log 1 = 0). Tf-idf is just the product of TF and IDF. \n",
    "\n",
    "Scikit-learn implements TfidfVectorizer as a) a count vectorizer, which determines the total vocabulary, creates a dictionary that assigns an integer value to each word, and counts the occurance of each word, followed by b) a tf-idf transformation that reweights the counts into normalized, floating point values. Each document string can then be represented by a vector where words are replaced by their corresponding tf-idf scores."
   ]
  },
  {
   "cell_type": "code",
   "execution_count": 57,
   "metadata": {},
   "outputs": [],
   "source": [
    "# Split the review data into training and test sets (we won't use a dev set for this)\n",
    "x_train, x_test, y_train, y_test = \\\n",
    "    train_test_split(reviews.text.values, reviews.stars.values, test_size=.1)"
   ]
  },
  {
   "cell_type": "code",
   "execution_count": 16,
   "metadata": {},
   "outputs": [
    {
     "name": "stdout",
     "output_type": "stream",
     "text": [
      "Number of features from TFIDFVectorizer: 155080\n"
     ]
    }
   ],
   "source": [
    "# Now vectorize the text data\n",
    "\n",
    "# min_df means exclude rare words that appear in less than 20 of the reviews\n",
    "# norm l2 means sum of squared vectors will be 1 (euclidean norm) and cosine similarity is the dot product\n",
    "# ngram_range is set to unigrams and bigrams\n",
    "\n",
    "vectorizer = TfidfVectorizer(min_df=20, norm='l2', ngram_range=(1, 2), stop_words='english')\n",
    "\n",
    "# Remember to use fit transform for the training set, to derive the vectors\n",
    "# but just transform for the test set - we need the test set to be expressed\n",
    "# using the same features as the training set\n",
    "\n",
    "features_train = vectorizer.fit_transform(x_train)\n",
    "features_test = vectorizer.transform(x_test)\n",
    "\n",
    "print('Number of features from TFIDFVectorizer: %d' % len(vectorizer.get_feature_names()))"
   ]
  },
  {
   "cell_type": "markdown",
   "metadata": {},
   "source": [
    "Each of the 450,000 reviews in the training set is now represented by a vector of 155080 features, which are the tf-idf scores for the unigram and bigrams in the data set.  \n",
    "\n",
    "At this stage, we can check the terms that are most correlated with each rating "
   ]
  },
  {
   "cell_type": "code",
   "execution_count": 17,
   "metadata": {},
   "outputs": [
    {
     "name": "stdout",
     "output_type": "stream",
     "text": [
      "\n",
      "\n",
      "Rating: 1\n",
      "\n",
      "Most correlated unigrams:\n",
      "terrible\n",
      "told\n",
      "horrible\n",
      "rude\n",
      "worst\n",
      "\n",
      "Most correlated bigrams:\n",
      "horrible service\n",
      "worst service\n",
      "stay away\n",
      "zero stars\n",
      "waste time\n",
      "\n",
      "\n",
      "Rating: 2\n",
      "\n",
      "Most correlated unigrams:\n",
      "disappointing\n",
      "meh\n",
      "ok\n",
      "mediocre\n",
      "bland\n",
      "\n",
      "Most correlated bigrams:\n",
      "experienced better\n",
      "food ok\n",
      "wanted like\n",
      "food mediocre\n",
      "tasted like\n",
      "\n",
      "\n",
      "Rating: 3\n",
      "\n",
      "Most correlated unigrams:\n",
      "pretty\n",
      "okay\n",
      "average\n",
      "decent\n",
      "ok\n",
      "\n",
      "Most correlated bigrams:\n",
      "just okay\n",
      "highly recommend\n",
      "food ok\n",
      "pretty good\n",
      "just ok\n",
      "\n",
      "\n",
      "Rating: 4\n",
      "\n",
      "Most correlated unigrams:\n",
      "tasty\n",
      "little\n",
      "bit\n",
      "pretty\n",
      "good\n",
      "\n",
      "Most correlated bigrams:\n",
      "highly recommend\n",
      "good food\n",
      "really good\n",
      "customer service\n",
      "pretty good\n",
      "\n",
      "\n",
      "Rating: 5\n",
      "\n",
      "Most correlated unigrams:\n",
      "love\n",
      "great\n",
      "best\n",
      "highly\n",
      "amazing\n",
      "\n",
      "Most correlated bigrams:\n",
      "great job\n",
      "pretty good\n",
      "great service\n",
      "love place\n",
      "highly recommend\n"
     ]
    }
   ],
   "source": [
    "for rating in sorted(reviews.stars.unique()):\n",
    "    features_chi2 = chi2(features_train, y_train==rating) # get chi^2 test statistic between feature and rating, only for those lines with the given rating\n",
    "    indices = np.argsort(features_chi2[0]) # return the indices that would sort the array\n",
    "    feature_names = np.array(vectorizer.get_feature_names())[indices] # select the words that map to the indices -> the ordering will sort the words from least correlated to most correlated\n",
    "    unigrams = [v for v in feature_names if len(v.split(' ')) == 1] # create a list of sorted unigrams\n",
    "    bigrams = [v for v in feature_names if len(v.split(' ')) == 2] # create a list of sorted bigrams\n",
    "    \n",
    "    print(\"\\n\\nRating: {}\".format(rating))\n",
    "    print(\"\\nMost correlated unigrams:\\n{}\".format('\\n'.join(unigrams[-5:])))\n",
    "    print(\"\\nMost correlated bigrams:\\n{}\".format('\\n'.join(bigrams[-5:])))\n",
    "    "
   ]
  },
  {
   "cell_type": "markdown",
   "metadata": {},
   "source": [
    "This looks pretty good. Let's see how well a variety of classifiers trained on the vectorized data will perform."
   ]
  },
  {
   "cell_type": "markdown",
   "metadata": {},
   "source": [
    "## Model Selection  \n",
    "  \n",
    "We'll start by looking at a selection of linear models - Multinomial Naive Bayes\\*, Logistic Regression, and a Support Vector Machine. We'll also add an ensemble model (Random Forest Classifier) to see how well that performs. Models will be assessed using f1 scores, which are a blended measure of both precision and recall, after accounting for class imbalance where possible. The approach is to first select the best performing model based solely on default settings, and then tune it to try increase performance.  \n",
    "  \n",
    "\\* _techincally NB is supposed to use integer counts, but the fractional counts resulting from tf-idf also work_"
   ]
  },
  {
   "cell_type": "code",
   "execution_count": 18,
   "metadata": {},
   "outputs": [],
   "source": [
    "models = [RandomForestClassifier(n_estimators=200, max_depth=3, class_weight='balanced'),\n",
    "          MultinomialNB(),\n",
    "          LinearSVC(class_weight='balanced'),\n",
    "          LogisticRegression(class_weight='balanced')]\n",
    "table=[]\n",
    "\n",
    "for model in models:\n",
    "    model.fit(features_train, y_train)      # fit the model\n",
    "    model_name = model.__class__.__name__   # get the name\n",
    "    accuracies = metrics.f1_score(y_test, model.predict(features_test), average=None)     # create numpy array of f1_score by class\n",
    "\n",
    "    for label, accuracy in enumerate(accuracies):        \n",
    "        table.append((model_name, label+1, accuracy))    # store results in a temporary list\n",
    "\n",
    "acc_df = pd.DataFrame(table, columns=['model_name', 'label', 'f1_score'])    # turn the list of results into a dataframe"
   ]
  },
  {
   "cell_type": "code",
   "execution_count": 19,
   "metadata": {},
   "outputs": [
    {
     "data": {
      "image/png": "[encoded data removed]",
      "text/plain": [
       "<Figure size 864x576 with 1 Axes>"
      ]
     },
     "metadata": {},
     "output_type": "display_data"
    }
   ],
   "source": [
    "# Use Seaborn stripplot when plotting categorical variables on an axis\n",
    "plt.subplots(figsize=(12,8))\n",
    "plt.title(\"Comparison of f1 score by class for different models\", size='large', weight='semibold')\n",
    "p1 = sns.stripplot(x='model_name', y='f1_score', hue='label', data=acc_df, \n",
    "              size=10, edgecolor=\"gray\", jitter=False, linewidth=1, palette='deep')\n",
    "\n",
    "# This is hacky, but setting the hue based on labels doesn't make it easy enough to distinguish\n",
    "# the different classes. Instead, loop through the data and annotate each marker with the label\n",
    "for line in range(0,acc_df.shape[0]):\n",
    "    p1.text(line//5+0.05, acc_df.f1_score[line], acc_df.label[line],\n",
    "            horizontalalignment='left', size='medium', color='black')\n",
    "\n"
   ]
  },
  {
   "cell_type": "markdown",
   "metadata": {},
   "source": [
    "**Logistic regression** appears to be the best choice overall (ignoring calculation speed, and focusing just on the class-based f1 score). NB, SVM and LR all do fairly well at classifying 5 and 1 start reviews, but LR is better than the others at correctly tagging 2 to 4 star reviews."
   ]
  },
  {
   "cell_type": "markdown",
   "metadata": {},
   "source": [
    "## Model Tuning"
   ]
  },
  {
   "cell_type": "markdown",
   "metadata": {},
   "source": [
    "#### a) Tune the vectorizer"
   ]
  },
  {
   "cell_type": "markdown",
   "metadata": {},
   "source": [
    "Now that we've selected a model, it is worth seeing whether further gains can be achieved by altering some of the parameters of the tf-idf vectorization. For example, we assumed that having a larger feature set by including bigrams would improve accuracy (effectively by acting as additional regularization), but we didn't test it."
   ]
  },
  {
   "cell_type": "code",
   "execution_count": 20,
   "metadata": {},
   "outputs": [
    {
     "name": "stdout",
     "output_type": "stream",
     "text": [
      "              precision    recall  f1-score   support\n",
      "\n",
      "           1      0.729     0.815     0.770      6926\n",
      "           2      0.426     0.397     0.411      4154\n",
      "           3      0.459     0.446     0.453      5748\n",
      "           4      0.536     0.507     0.521     11529\n",
      "           5      0.803     0.812     0.807     21643\n",
      "\n",
      "    accuracy                          0.666     50000\n",
      "   macro avg      0.591     0.595     0.592     50000\n",
      "weighted avg      0.660     0.666     0.662     50000\n",
      "\n"
     ]
    }
   ],
   "source": [
    "# Get baseline stats\n",
    "lr = LogisticRegression(class_weight='balanced')\n",
    "lr.fit(features_train, y_train)\n",
    "print(metrics.classification_report(y_test, lr.predict(features_test), digits=3))"
   ]
  },
  {
   "cell_type": "code",
   "execution_count": 21,
   "metadata": {},
   "outputs": [
    {
     "name": "stdout",
     "output_type": "stream",
     "text": [
      "Fitting 3 folds for each of 8 candidates, totalling 24 fits\n",
      "[CV] vec__max_df=0.3, vec__min_df=0.0001, vec__ngram_range=(1, 1) ....\n"
     ]
    },
    {
     "name": "stderr",
     "output_type": "stream",
     "text": [
      "[Parallel(n_jobs=1)]: Using backend SequentialBackend with 1 concurrent workers.\n"
     ]
    },
    {
     "name": "stdout",
     "output_type": "stream",
     "text": [
      "[CV]  vec__max_df=0.3, vec__min_df=0.0001, vec__ngram_range=(1, 1), total= 1.0min\n",
      "[CV] vec__max_df=0.3, vec__min_df=0.0001, vec__ngram_range=(1, 1) ....\n"
     ]
    },
    {
     "name": "stderr",
     "output_type": "stream",
     "text": [
      "[Parallel(n_jobs=1)]: Done   1 out of   1 | elapsed:  1.0min remaining:    0.0s\n"
     ]
    },
    {
     "name": "stdout",
     "output_type": "stream",
     "text": [
      "[CV]  vec__max_df=0.3, vec__min_df=0.0001, vec__ngram_range=(1, 1), total= 1.0min\n",
      "[CV] vec__max_df=0.3, vec__min_df=0.0001, vec__ngram_range=(1, 1) ....\n",
      "[CV]  vec__max_df=0.3, vec__min_df=0.0001, vec__ngram_range=(1, 1), total= 1.0min\n",
      "[CV] vec__max_df=0.3, vec__min_df=0.0001, vec__ngram_range=(1, 2) ....\n",
      "[CV]  vec__max_df=0.3, vec__min_df=0.0001, vec__ngram_range=(1, 2), total= 2.2min\n",
      "[CV] vec__max_df=0.3, vec__min_df=0.0001, vec__ngram_range=(1, 2) ....\n",
      "[CV]  vec__max_df=0.3, vec__min_df=0.0001, vec__ngram_range=(1, 2), total= 2.2min\n",
      "[CV] vec__max_df=0.3, vec__min_df=0.0001, vec__ngram_range=(1, 2) ....\n",
      "[CV]  vec__max_df=0.3, vec__min_df=0.0001, vec__ngram_range=(1, 2), total= 2.2min\n",
      "[CV] vec__max_df=0.3, vec__min_df=0.001, vec__ngram_range=(1, 1) .....\n",
      "[CV]  vec__max_df=0.3, vec__min_df=0.001, vec__ngram_range=(1, 1), total=  52.3s\n",
      "[CV] vec__max_df=0.3, vec__min_df=0.001, vec__ngram_range=(1, 1) .....\n",
      "[CV]  vec__max_df=0.3, vec__min_df=0.001, vec__ngram_range=(1, 1), total=  51.5s\n",
      "[CV] vec__max_df=0.3, vec__min_df=0.001, vec__ngram_range=(1, 1) .....\n",
      "[CV]  vec__max_df=0.3, vec__min_df=0.001, vec__ngram_range=(1, 1), total=  51.6s\n",
      "[CV] vec__max_df=0.3, vec__min_df=0.001, vec__ngram_range=(1, 2) .....\n",
      "[CV]  vec__max_df=0.3, vec__min_df=0.001, vec__ngram_range=(1, 2), total= 1.7min\n",
      "[CV] vec__max_df=0.3, vec__min_df=0.001, vec__ngram_range=(1, 2) .....\n",
      "[CV]  vec__max_df=0.3, vec__min_df=0.001, vec__ngram_range=(1, 2), total= 1.9min\n",
      "[CV] vec__max_df=0.3, vec__min_df=0.001, vec__ngram_range=(1, 2) .....\n",
      "[CV]  vec__max_df=0.3, vec__min_df=0.001, vec__ngram_range=(1, 2), total= 1.9min\n",
      "[CV] vec__max_df=0.5, vec__min_df=0.0001, vec__ngram_range=(1, 1) ....\n",
      "[CV]  vec__max_df=0.5, vec__min_df=0.0001, vec__ngram_range=(1, 1), total= 1.1min\n",
      "[CV] vec__max_df=0.5, vec__min_df=0.0001, vec__ngram_range=(1, 1) ....\n",
      "[CV]  vec__max_df=0.5, vec__min_df=0.0001, vec__ngram_range=(1, 1), total= 1.1min\n",
      "[CV] vec__max_df=0.5, vec__min_df=0.0001, vec__ngram_range=(1, 1) ....\n",
      "[CV]  vec__max_df=0.5, vec__min_df=0.0001, vec__ngram_range=(1, 1), total= 1.0min\n",
      "[CV] vec__max_df=0.5, vec__min_df=0.0001, vec__ngram_range=(1, 2) ....\n",
      "[CV]  vec__max_df=0.5, vec__min_df=0.0001, vec__ngram_range=(1, 2), total= 2.2min\n",
      "[CV] vec__max_df=0.5, vec__min_df=0.0001, vec__ngram_range=(1, 2) ....\n",
      "[CV]  vec__max_df=0.5, vec__min_df=0.0001, vec__ngram_range=(1, 2), total= 2.1min\n",
      "[CV] vec__max_df=0.5, vec__min_df=0.0001, vec__ngram_range=(1, 2) ....\n",
      "[CV]  vec__max_df=0.5, vec__min_df=0.0001, vec__ngram_range=(1, 2), total= 2.1min\n",
      "[CV] vec__max_df=0.5, vec__min_df=0.001, vec__ngram_range=(1, 1) .....\n",
      "[CV]  vec__max_df=0.5, vec__min_df=0.001, vec__ngram_range=(1, 1), total=  51.4s\n",
      "[CV] vec__max_df=0.5, vec__min_df=0.001, vec__ngram_range=(1, 1) .....\n",
      "[CV]  vec__max_df=0.5, vec__min_df=0.001, vec__ngram_range=(1, 1), total=  51.5s\n",
      "[CV] vec__max_df=0.5, vec__min_df=0.001, vec__ngram_range=(1, 1) .....\n",
      "[CV]  vec__max_df=0.5, vec__min_df=0.001, vec__ngram_range=(1, 1), total=  51.3s\n",
      "[CV] vec__max_df=0.5, vec__min_df=0.001, vec__ngram_range=(1, 2) .....\n",
      "[CV]  vec__max_df=0.5, vec__min_df=0.001, vec__ngram_range=(1, 2), total= 1.7min\n",
      "[CV] vec__max_df=0.5, vec__min_df=0.001, vec__ngram_range=(1, 2) .....\n",
      "[CV]  vec__max_df=0.5, vec__min_df=0.001, vec__ngram_range=(1, 2), total= 1.7min\n",
      "[CV] vec__max_df=0.5, vec__min_df=0.001, vec__ngram_range=(1, 2) .....\n",
      "[CV]  vec__max_df=0.5, vec__min_df=0.001, vec__ngram_range=(1, 2), total= 1.7min\n"
     ]
    },
    {
     "name": "stderr",
     "output_type": "stream",
     "text": [
      "[Parallel(n_jobs=1)]: Done  24 out of  24 | elapsed: 35.1min finished\n"
     ]
    },
    {
     "name": "stdout",
     "output_type": "stream",
     "text": [
      "\n",
      "Best parameters: {'vec__max_df': 0.5, 'vec__min_df': 0.0001, 'vec__ngram_range': (1, 2)}\n",
      "              precision    recall  f1-score   support\n",
      "\n",
      "           1      0.733     0.814     0.771      6926\n",
      "           2      0.422     0.406     0.414      4154\n",
      "           3      0.454     0.443     0.449      5748\n",
      "           4      0.536     0.503     0.519     11529\n",
      "           5      0.803     0.812     0.807     21643\n",
      "\n",
      "    accuracy                          0.665     50000\n",
      "   macro avg      0.590     0.596     0.592     50000\n",
      "weighted avg      0.660     0.665     0.662     50000\n",
      "\n"
     ]
    }
   ],
   "source": [
    "# Use sklearn.pipeline.Pipeline to sequentially apply a list of transforms\n",
    "# Parameters are set by using the name followed by a double underline \"__\"\n",
    "# See https://scikit-learn.org/stable/modules/generated/sklearn.pipeline.Pipeline.html for details\n",
    "\n",
    "pipe = Pipeline([\n",
    "    ('vec', TfidfVectorizer(stop_words='english')), \n",
    "    ('model', LogisticRegression(class_weight='balanced'))\n",
    "    ])\n",
    "\n",
    "param_grid = {'vec__ngram_range': [(1,1), (1,2)],   # try unigrams and bigrams\n",
    "              'vec__max_df': [0.3, 0.5],            # ignore common words appearing in more than this proportion of reviews\n",
    "              'vec__min_df': [0.0001, .001]}     # ignore rare words appearing in less than this proportion of reviews\n",
    "\n",
    "grid = GridSearchCV(pipe, param_grid, verbose=2)\n",
    "grid.fit(x_train, y_train)\n",
    "print('\\nBest parameters: ' + str(grid.best_params_))\n",
    "print(metrics.classification_report(y_test, grid.predict(x_test), digits=3))"
   ]
  },
  {
   "cell_type": "markdown",
   "metadata": {},
   "source": [
    "After all that, the performance wasn't significantly improved - it turns out that leaving in bigrams and excluding a small number of rare words is the optimal choice with this model and data set. "
   ]
  },
  {
   "cell_type": "markdown",
   "metadata": {},
   "source": [
    "#### b) Tune the model"
   ]
  },
  {
   "cell_type": "code",
   "execution_count": 22,
   "metadata": {},
   "outputs": [
    {
     "name": "stdout",
     "output_type": "stream",
     "text": [
      "\n",
      "Logistic Regression, best parameters: {'C': 1.5, 'penalty': 'l1'}\n",
      "              precision    recall  f1-score   support\n",
      "\n",
      "           1      0.734     0.835     0.781      6926\n",
      "           2      0.493     0.287     0.363      4154\n",
      "           3      0.507     0.348     0.413      5748\n",
      "           4      0.527     0.483     0.504     11529\n",
      "           5      0.752     0.876     0.809     21643\n",
      "\n",
      "    accuracy                          0.670     50000\n",
      "   macro avg      0.603     0.566     0.574     50000\n",
      "weighted avg      0.648     0.670     0.652     50000\n",
      "\n"
     ]
    }
   ],
   "source": [
    "lr = GridSearchCV(LogisticRegression(), {'penalty':['l1', 'l2'], 'C': [.1, .5, 1.5, 2]})\n",
    "lr.fit(features_train, y_train)\n",
    "print('\\nLogistic Regression, best parameters: ' + str(lr.best_params_))\n",
    "print(metrics.classification_report(y_test, lr.predict(features_test), digits=3))"
   ]
  },
  {
   "cell_type": "markdown",
   "metadata": {},
   "source": [
    "There is a very small increase in overall accuracy by switching to L1 regularization and weakening C (the regularization factor) from 1 to 1.5, but it comes at the cost of accuracy in the classification of 2-4 star ratings."
   ]
  },
  {
   "cell_type": "markdown",
   "metadata": {},
   "source": [
    "## Check errors  \n",
    "  \n",
    "#### a) Confusion matrix"
   ]
  },
  {
   "cell_type": "code",
   "execution_count": 23,
   "metadata": {},
   "outputs": [],
   "source": [
    "lr = LogisticRegression(penalty='l1', class_weight='balanced', C=1.5)\n",
    "lr.fit(features_train, y_train)\n",
    "y_pred = lr.predict(features_test)"
   ]
  },
  {
   "cell_type": "code",
   "execution_count": 28,
   "metadata": {},
   "outputs": [
    {
     "data": {
      "image/png": "[encoded data removed]",
      "text/plain": [
       "<Figure size 576x576 with 2 Axes>"
      ]
     },
     "metadata": {},
     "output_type": "display_data"
    }
   ],
   "source": [
    "fig, ax = plt.subplots(figsize=(8,8))\n",
    "conf_mat = confusion_matrix(y_test, y_pred)\n",
    "# normalize by row totals to address class imbalance\n",
    "conf_mat = conf_mat.astype('float') / conf_mat.sum(axis=1)[:, np.newaxis]\n",
    "sns.heatmap(conf_mat, annot=True, fmt='0.2f',\n",
    "            xticklabels=sorted(reviews.stars.unique()), yticklabels=sorted(reviews.stars.unique()))\n",
    "plt.ylabel('Actual')\n",
    "plt.xlabel('Predicted')\n",
    "plt.show()"
   ]
  },
  {
   "cell_type": "markdown",
   "metadata": {},
   "source": [
    "As suspected, it is difficult to correctly distinguish between adjacent categories based on the text of the review. To get better results we might need to add training data, or binarize the labels, although that would just mean solving the easier problem of whether a review is positive or negative."
   ]
  },
  {
   "cell_type": "markdown",
   "metadata": {},
   "source": [
    "#### b) Largest errors  \n",
    "  \n",
    "Define the magnitude of an error to be the difference between the probability assigned to the correct class and the probability assigned to the incorrect class. For example, if the correct class is a 5 star review, and the predictions are P(1 star)=0, P(2 star)=0.01, P(3 star)=0.01, P(4 star)=0.60, P(5 star)=0.38 then the error is 0.38-0.60 = -0.22"
   ]
  },
  {
   "cell_type": "code",
   "execution_count": 50,
   "metadata": {},
   "outputs": [
    {
     "name": "stdout",
     "output_type": "stream",
     "text": [
      "Review number: 426\n",
      "Predicted stars: 5  Actual stars: 4\n",
      "Prob(prediction): 0.996   Prob(actual stars): 0.004\n",
      "Well, that was awesome!  Rob is a total super hero, I am extremely pleased and I highly recommend these \n",
      "\n",
      "\n",
      "\n",
      "qlly\n",
      "\n",
      "\n",
      "\n",
      "Review number: 9678\n",
      "Predicted stars: 1  Actual stars: 5\n",
      "Prob(prediction): 0.993   Prob(actual stars): 0.003\n",
      "The club itself is awesome.  Amenities galore and serene.  Beware of front desk worker Lynn M.  She is rude, abrasive and inconsiderate.  Her people skills deserve zero stars however the club itself is awesome!\n",
      "\n",
      "\n",
      "\n",
      "Review number: 17692\n",
      "Predicted stars: 5  Actual stars: 4\n",
      "Prob(prediction): 0.987   Prob(actual stars): 0.005\n",
      "Let me start by saying Angelo is the owner of Valley of the Sun Violins, and was amazing. He gave his honest opinions on our 18th century violin. It has been in the family for over a hundred years. It has some centimental value, however Angelo made us feel like he would clean it up and make sure it goes to a home that understands the history beh8nd this fine instrument.  He was honest and upfront, and extremely knowledgale. I couldn't have been happier with our experience and Valley of the sun. I Highly recommend him for any of your violin needs! Thank you Angelo, again for all your help!\n",
      "\n",
      "\n",
      "\n",
      "Review number: 30100\n",
      "Predicted stars: 5  Actual stars: 4\n",
      "Prob(prediction): 0.989   Prob(actual stars): 0.010\n",
      "Love this place hands down some of the best pizza ever !!! Great deals and amazing pizza - I always order to go\n",
      "\n",
      "\n",
      "\n",
      "Review number: 46177\n",
      "Predicted stars: 5  Actual stars: 4\n",
      "Prob(prediction): 0.981   Prob(actual stars): 0.012\n",
      "Sully has been my personal trainer for two months now. This guy is AWSOME he's been preparing me for a Physique Competition in July. His Professionalism and the way he cares for his clients is excellent. This guy pushes me to the limits and also gives me the confidence that I need to pursue this dream in competing in July. Is knowledge on nutrition is exactly what I need to take me to the next level.. Very thankful and grateful that I met him.. If your in a need of Personal Trainer I HIGHLY RECOMMEND u ask for Sully!!\n",
      "\n",
      "\n",
      "\n"
     ]
    }
   ],
   "source": [
    "pred = lr.predict(features_test)\n",
    "prob = lr.predict_proba(features_test)\n",
    "\n",
    "# Create a list containing a tuple for each prediction that was incorrect\n",
    "# Tuple contains (index, predicted class, actual class, prob(prediction), prob(actual class))\n",
    "R = [(i, pred[i], y, max(prob[i]), prob[i][y-1]) for i, y in enumerate(y_test) if y != pred[i]]\n",
    "\n",
    "# Sort by largest errors\n",
    "R.sort(key=lambda x: x[4]-x[3])\n",
    "\n",
    "for (i, pred, actual, wrong_prob, right_prob) in R[:5]:       \n",
    "    print('Review number:', i)\n",
    "    print('Predicted stars: {0}  Actual stars: {1}'.format(pred, actual))\n",
    "    print('Prob(prediction): {0:0.3f}   Prob(actual stars): {1:0.3f}'.format(wrong_prob, right_prob))\n",
    "    print(x_test[i])\n",
    "    print('\\n\\n')"
   ]
  },
  {
   "cell_type": "markdown",
   "metadata": {},
   "source": [
    "There are two types of problems highlighted here. The first is where the reviewer avoids an extreme star rating despite writing an emphatic review. These would be very difficult for even a human reviewer to predict correctly.\n",
    "\n",
    "The second problem is where the reviewer includes a 'sub-review' and describes a specific aspect of their experience that doesn't affect their overall rating. This is similar the problem of thwarted expectations, where the reveiwer begins with a set-up that uses words with positive sentiment to explain what they expected, but they then negate it and say that their expectations weren't met. Both are common problems when using a bag of words approach. To deal with them more effectively you need a sequential model, preferably one with memory that can identify when one of the clauses has been negated.   "
   ]
  },
  {
   "cell_type": "markdown",
   "metadata": {},
   "source": [
    "## Prediction using an RNN  \n",
    "  \n",
    "In this section we will implement a very simple recurrent neural network.  It will consist of only 4 layers:\n",
    "1. An embedding layer for an efficient representation of the training samples\n",
    "2. A long short term memory layer for the bulk of the prediction power\n",
    "3. A dropout layer for regularization\n",
    "4. An output layer  \n",
    "\n",
    "We'll include a memory component to try to catch longer term dependecies"
   ]
  },
  {
   "cell_type": "code",
   "execution_count": 51,
   "metadata": {},
   "outputs": [],
   "source": [
    "# Start by tokenizing the reviews. Given the median length is 80 words, we'll assume that reviewers\n",
    "# can generally get their point across in 160 words - this means we'll cap review length at 160 tokens\n",
    "# and pad anything shorter than that. To speed things up we'll limit the vocab to 10,000 words\n",
    "\n",
    "t = Tokenizer(num_words=10000)\n",
    "t.fit_on_texts(reviews.text)\n",
    "texts = pad_sequences(t.texts_to_sequences(reviews.text), maxlen=160)"
   ]
  },
  {
   "cell_type": "code",
   "execution_count": 59,
   "metadata": {},
   "outputs": [],
   "source": [
    "# Use tokenized text to create new train / test sets\n",
    "x_train_rnn, x_test_rnn, y_train_rnn, y_test_rnn = \\\n",
    "    train_test_split(texts, reviews.stars, test_size=.1)"
   ]
  },
  {
   "cell_type": "code",
   "execution_count": 105,
   "metadata": {},
   "outputs": [],
   "source": [
    "# Build the model\n",
    "\n",
    "model = Sequential()\n",
    "model.add(Embedding(input_dim=10000, output_dim=128, input_length=160))\n",
    "model.add(LSTM(128))\n",
    "model.add(Dropout(0.25))\n",
    "model.add(Dense(5, activation='softmax')) #Dense layer should have 5 categories, and softmax activation for classification\n",
    "\n",
    "model.compile(optimizer='adam',\n",
    "              loss='categorical_crossentropy',\n",
    "              metrics=['accuracy'])\n"
   ]
  },
  {
   "cell_type": "code",
   "execution_count": 106,
   "metadata": {},
   "outputs": [
    {
     "name": "stdout",
     "output_type": "stream",
     "text": [
      "_________________________________________________________________\n",
      "Layer (type)                 Output Shape              Param #   \n",
      "=================================================================\n",
      "embedding_14 (Embedding)     (None, 160, 128)          1280000   \n",
      "_________________________________________________________________\n",
      "lstm_14 (LSTM)               (None, 128)               131584    \n",
      "_________________________________________________________________\n",
      "dropout_14 (Dropout)         (None, 128)               0         \n",
      "_________________________________________________________________\n",
      "dense_14 (Dense)             (None, 5)                 645       \n",
      "=================================================================\n",
      "Total params: 1,412,229\n",
      "Trainable params: 1,412,229\n",
      "Non-trainable params: 0\n",
      "_________________________________________________________________\n"
     ]
    }
   ],
   "source": [
    "model.summary()"
   ]
  },
  {
   "cell_type": "code",
   "execution_count": 103,
   "metadata": {},
   "outputs": [],
   "source": [
    "# Convert integer class labels to one hot vectors required for use with categorical_crossentropy loss\n",
    "from keras.utils import to_categorical\n",
    "y_bin_train_rnn = to_categorical(y_train_rnn-1)\n",
    "y_bin_test_rnn = to_categorical(y_test_rnn-1)"
   ]
  },
  {
   "cell_type": "code",
   "execution_count": 104,
   "metadata": {},
   "outputs": [
    {
     "name": "stdout",
     "output_type": "stream",
     "text": [
      "491225    4\n",
      "185208    1\n",
      "190171    5\n",
      "66187     1\n",
      "78418     2\n",
      "Name: stars, dtype: int64\n",
      "[[0. 0. 0. 1. 0.]\n",
      " [1. 0. 0. 0. 0.]\n",
      " [0. 0. 0. 0. 1.]\n",
      " [1. 0. 0. 0. 0.]\n",
      " [0. 1. 0. 0. 0.]]\n"
     ]
    }
   ],
   "source": [
    "# Check that integer class labels have been correctly encoded\n",
    "print(y_train_rnn[:5])\n",
    "print(y_bin_train_rnn[:5])"
   ]
  },
  {
   "cell_type": "code",
   "execution_count": 107,
   "metadata": {},
   "outputs": [
    {
     "name": "stdout",
     "output_type": "stream",
     "text": [
      "Train on 405000 samples, validate on 45000 samples\n",
      "Epoch 1/10\n",
      "405000/405000 [==============================] - 1869s 5ms/step - loss: 0.8800 - acc: 0.6289 - val_loss: 0.7826 - val_acc: 0.6676\n",
      "Epoch 2/10\n",
      "405000/405000 [==============================] - 1767s 4ms/step - loss: 0.7587 - acc: 0.6778 - val_loss: 0.7648 - val_acc: 0.6730\n",
      "Epoch 3/10\n",
      "405000/405000 [==============================] - 1761s 4ms/step - loss: 0.7166 - acc: 0.6952 - val_loss: 0.7376 - val_acc: 0.6844\n",
      "Epoch 4/10\n",
      "405000/405000 [==============================] - 1757s 4ms/step - loss: 0.6847 - acc: 0.7092 - val_loss: 0.7337 - val_acc: 0.6842\n",
      "Epoch 5/10\n",
      "405000/405000 [==============================] - 1758s 4ms/step - loss: 0.6582 - acc: 0.7207 - val_loss: 0.7300 - val_acc: 0.6899\n",
      "Epoch 6/10\n",
      "405000/405000 [==============================] - 1770s 4ms/step - loss: 0.6344 - acc: 0.7309 - val_loss: 0.7360 - val_acc: 0.6846\n",
      "Epoch 7/10\n",
      "405000/405000 [==============================] - 1775s 4ms/step - loss: 0.6116 - acc: 0.7409 - val_loss: 0.7442 - val_acc: 0.6838\n",
      "Epoch 8/10\n",
      "405000/405000 [==============================] - 1763s 4ms/step - loss: 0.5893 - acc: 0.7516 - val_loss: 0.7793 - val_acc: 0.6806\n",
      "Epoch 9/10\n",
      "405000/405000 [==============================] - 1751s 4ms/step - loss: 0.5675 - acc: 0.7609 - val_loss: 0.7790 - val_acc: 0.6828\n",
      "Epoch 10/10\n",
      "405000/405000 [==============================] - 1742s 4ms/step - loss: 0.5462 - acc: 0.7712 - val_loss: 0.7957 - val_acc: 0.6765\n",
      "\n",
      "Test\n",
      "50000/50000 [==============================] - 126s 3ms/step\n",
      "Loss = 0.778\n",
      "Accuracy = 0.685\n"
     ]
    }
   ],
   "source": [
    "model.fit(x_train_rnn, y_bin_train_rnn, epochs=10, batch_size=500, validation_split=.1)\n",
    "\n",
    "print('\\nTest')\n",
    "score = model.evaluate(x_test_rnn, y_bin_test_rnn, batch_size=100)\n",
    "print('Loss = {0:0.3f}'.format(score[0]))\n",
    "print('Accuracy = {0:0.3f}'.format(score[1]))"
   ]
  },
  {
   "cell_type": "code",
   "execution_count": 118,
   "metadata": {},
   "outputs": [],
   "source": [
    "y_pred2 = model.predict_classes(x_test_rnn)+1"
   ]
  },
  {
   "cell_type": "code",
   "execution_count": 121,
   "metadata": {},
   "outputs": [
    {
     "name": "stdout",
     "output_type": "stream",
     "text": [
      "              precision    recall  f1-score   support\n",
      "\n",
      "           1      0.771     0.794     0.782      6924\n",
      "           2      0.460     0.470     0.465      4168\n",
      "           3      0.535     0.437     0.481      5733\n",
      "           4      0.570     0.462     0.510     11529\n",
      "           5      0.772     0.877     0.821     21646\n",
      "\n",
      "    accuracy                          0.685     50000\n",
      "   macro avg      0.621     0.608     0.612     50000\n",
      "weighted avg      0.672     0.685     0.675     50000\n",
      "\n"
     ]
    }
   ],
   "source": [
    "print(metrics.classification_report(y_test_rnn, y_pred2, digits=3))"
   ]
  },
  {
   "cell_type": "markdown",
   "metadata": {},
   "source": [
    "Even with a fairly simple LSTM and small vocabulary, there is an improvement over logistic regression. We could probably tune the model to improve it further, although it will always be difficult to overcome the issue of subjectivity in the ratings, where the description provided by the reviewer does not contain the entirety of their thought process when they determined the corresponding star rating."
   ]
  },
  {
   "cell_type": "markdown",
   "metadata": {},
   "source": [
    "## Final Comparison"
   ]
  },
  {
   "cell_type": "code",
   "execution_count": 145,
   "metadata": {},
   "outputs": [
    {
     "data": {
      "image/png": "[encoded data removed]",
      "text/plain": [
       "<Figure size 1152x576 with 1 Axes>"
      ]
     },
     "metadata": {},
     "output_type": "display_data"
    }
   ],
   "source": [
    "# Get f1 score by categories for the RNN\n",
    "accuracies = metrics.f1_score(y_test_rnn, y_pred2, average=None)\n",
    "\n",
    "# Add them to the accuracy dataframe\n",
    "table = []\n",
    "for label, accuracy in enumerate(accuracies):        \n",
    "        table.append((\"LSTM\", label+1, accuracy))\n",
    "\n",
    "acc_df_rnn = pd.DataFrame(table, columns=['model_name', 'label', 'f1_score'])\n",
    "acc_df = acc_df.append(acc_df_rnn, ignore_index=True)\n",
    "\n",
    "# Use Seaborn stripplot when plotting categorical variables\n",
    "plt.subplots(figsize=(16,8))\n",
    "plt.title(\"Comparison of f1 score by class for different models\", size='large', weight='semibold')\n",
    "p1 = sns.stripplot(x='model_name', y='f1_score', hue='label', data=acc_df, \n",
    "              size=10, edgecolor=\"gray\", jitter=False, linewidth=1, palette='deep')\n",
    "\n",
    "# Annotate each marker with the label\n",
    "for line in range(0,acc_df.shape[0]):\n",
    "    p1.text(line//5+0.05, acc_df.f1_score[line], acc_df.label[line],\n",
    "            horizontalalignment='left', size='medium', color='black')"
   ]
  }
 ],
 "metadata": {
  "kernelspec": {
   "display_name": "Python [conda env:tf_env]",
   "language": "python",
   "name": "conda-env-tf_env-py"
  },
  "language_info": {
   "codemirror_mode": {
    "name": "ipython",
    "version": 3
   },
   "file_extension": ".py",
   "mimetype": "text/x-python",
   "name": "python",
   "nbconvert_exporter": "python",
   "pygments_lexer": "ipython3",
   "version": "3.7.3"
  }
 },
 "nbformat": 4,
 "nbformat_minor": 2
}
